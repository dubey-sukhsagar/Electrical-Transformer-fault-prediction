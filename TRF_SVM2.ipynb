{
 "cells": [
  {
   "cell_type": "code",
   "execution_count": 77,
   "metadata": {},
   "outputs": [],
   "source": [
    "from sklearn import svm, datasets\n",
    "import sklearn.model_selection as model_selection\n",
    "from sklearn.metrics import accuracy_score\n",
    "from sklearn.metrics import f1_score\n",
    "import warnings\n",
    "import numpy as np\n",
    "import os\n",
    "import pandas as pd\n",
    "warnings.filterwarnings('ignore')\n",
    "import csv"
   ]
  },
  {
   "cell_type": "code",
   "execution_count": 78,
   "metadata": {},
   "outputs": [
    {
     "name": "stdout",
     "output_type": "stream",
     "text": [
      "       H2  CH4    C2H2    C2H4   C2H6    CO                Fault Type  Label\n",
      "0    4566  671  683643  434322  45482  2001  High intensity discharge      3\n",
      "1    2323  782  545454  342233   4343  4545  High intensity discharge      3\n",
      "2    2118  844  540711  449264   4443  4535  High intensity discharge      3\n",
      "3    2285  706  546779  435718   4303  4235  High intensity discharge      3\n",
      "4    2238  826  537988  335279   4008  4472  High intensity discharge      3\n",
      "..    ...  ...     ...     ...    ...   ...                       ...    ...\n",
      "195    11   12      25      78     31    32                  No fault      0\n",
      "196   140    1      79      97     35    24                  No fault      0\n",
      "197    38   48      29      72     90    31                  No fault      0\n",
      "198     0   44      68      73     22     7                  No fault      0\n",
      "199     3    3      89      37     40  2481                  No fault      0\n",
      "\n",
      "[200 rows x 8 columns]\n"
     ]
    }
   ],
   "source": [
    "#Read DGA FILE \n",
    "path='C:\\\\Users\\\\Dubey\\\\Desktop\\\\IIsc_class_2\\\\E9 205_MLSP\\\\Project'\n",
    "os.chdir(path)\n",
    "df= pd.read_csv(\"dga_data.csv\")\n",
    "print(df)\n"
   ]
  },
  {
   "cell_type": "code",
   "execution_count": 79,
   "metadata": {},
   "outputs": [
    {
     "name": "stdout",
     "output_type": "stream",
     "text": [
      "<class 'numpy.ndarray'> (200, 5)\n",
      "200\n"
     ]
    }
   ],
   "source": [
    "#Preprocessing of data \n",
    "#data=df.drop(['CO','Fault Type'], axis = 1)\n",
    "x=df.iloc[:,[0, 1, 2, 3, 4]]\n",
    "#print(x)\n",
    "x=(x-x.mean())/x.std()\n",
    "#print(x)\n",
    "y=df['Label'].tolist()\n",
    "x= x.to_numpy()\n",
    "print(type(x),x.shape)\n",
    "print(len(y))"
   ]
  },
  {
   "cell_type": "code",
   "execution_count": 75,
   "metadata": {},
   "outputs": [],
   "source": [
    "X_train, X_test, y_train, y_test = model_selection.train_test_split(x, y, train_size=0.80, test_size=0.20, random_state=101)"
   ]
  },
  {
   "cell_type": "code",
   "execution_count": 76,
   "metadata": {},
   "outputs": [
    {
     "name": "stdout",
     "output_type": "stream",
     "text": [
      "Accuracy (RBF Kernel):  95.00\n",
      "F1 (RBF Kernel):  95.05\n"
     ]
    }
   ],
   "source": [
    "#RBF KERNEL\n",
    "rbf = svm.SVC(kernel='rbf', gamma=0.4738, C=1.6261).fit(X_train, y_train)\n",
    "rbf_pred = rbf.predict(X_test)\n",
    "rbf_accuracy = accuracy_score(y_test, rbf_pred)\n",
    "rbf_f1 = f1_score(y_test, rbf_pred, average='weighted')\n",
    "print('Accuracy (RBF Kernel): ', \"%.2f\" % (rbf_accuracy*100))\n",
    "print('F1 (RBF Kernel): ', \"%.2f\" % (rbf_f1*100))"
   ]
  },
  {
   "cell_type": "code",
   "execution_count": null,
   "metadata": {},
   "outputs": [],
   "source": []
  }
 ],
 "metadata": {
  "kernelspec": {
   "display_name": "Python 3",
   "language": "python",
   "name": "python3"
  },
  "language_info": {
   "codemirror_mode": {
    "name": "ipython",
    "version": 3
   },
   "file_extension": ".py",
   "mimetype": "text/x-python",
   "name": "python",
   "nbconvert_exporter": "python",
   "pygments_lexer": "ipython3",
   "version": "3.7.4"
  }
 },
 "nbformat": 4,
 "nbformat_minor": 2
}
