{
 "cells": [
  {
   "cell_type": "code",
   "execution_count": 26,
   "metadata": {},
   "outputs": [],
   "source": [
    "from sklearn import svm, datasets\n",
    "import sklearn.model_selection as model_selection\n",
    "from sklearn.metrics import accuracy_score\n",
    "from sklearn.metrics import f1_score\n",
    "import warnings\n",
    "import numpy as np\n",
    "import matplotlib.pyplot as plt\n",
    "import sys\n",
    "import os\n",
    "import pandas as pd\n",
    "warnings.filterwarnings('ignore')\n",
    "import csv"
   ]
  },
  {
   "cell_type": "code",
   "execution_count": 27,
   "metadata": {},
   "outputs": [
    {
     "name": "stdout",
     "output_type": "stream",
     "text": [
      "       H2  CH4    C2H2    C2H4   C2H6    CO                Fault Type  Label\n",
      "0    4566  671  683643  434322  45482  2001  High intensity discharge      3\n",
      "1    2323  782  545454  342233   4343  4545  High intensity discharge      3\n",
      "2    2118  844  540711  449264   4443  4535  High intensity discharge      3\n",
      "3    2285  706  546779  435718   4303  4235  High intensity discharge      3\n",
      "4    2238  826  537988  335279   4008  4472  High intensity discharge      3\n",
      "..    ...  ...     ...     ...    ...   ...                       ...    ...\n",
      "195    11   12      25      78     31    32                  No fault      0\n",
      "196   140    1      79      97     35    24                  No fault      0\n",
      "197    38   48      29      72     90    31                  No fault      0\n",
      "198     0   44      68      73     22     7                  No fault      0\n",
      "199     3    3      89      37     40  2481                  No fault      0\n",
      "\n",
      "[200 rows x 8 columns]\n"
     ]
    }
   ],
   "source": [
    "#Read DGA FILE \n",
    "path='C:\\\\Users\\\\Dubey\\\\Desktop\\\\IIsc_class_2\\\\E9 205_MLSP\\\\Project'\n",
    "os.chdir(path)\n",
    "df= pd.read_csv(\"dga_data.csv\")\n",
    "print(df)"
   ]
  },
  {
   "cell_type": "code",
   "execution_count": 28,
   "metadata": {},
   "outputs": [
    {
     "name": "stdout",
     "output_type": "stream",
     "text": [
      "<class 'pandas.core.frame.DataFrame'> (200, 6)\n",
      "200\n"
     ]
    }
   ],
   "source": [
    "#Preprocessing of data \n",
    "#data=df.drop(['CO','Fault Type'], axis = 1)\n",
    "x=df.iloc[:,[0, 1, 2, 3, 4,5]]\n",
    "#print(x)\n",
    "x=(x-x.mean())/x.std()\n",
    "#print(x)\n",
    "y=df['Label'].tolist()\n",
    "#x= x.to_numpy()\n",
    "print(type(x),x.shape)\n",
    "print(len(y))"
   ]
  },
  {
   "cell_type": "code",
   "execution_count": 29,
   "metadata": {},
   "outputs": [
    {
     "name": "stdout",
     "output_type": "stream",
     "text": [
      "                                 OLS Regression Results                                \n",
      "=======================================================================================\n",
      "Dep. Variable:                      y   R-squared (uncentered):                   0.443\n",
      "Model:                            OLS   Adj. R-squared (uncentered):              0.425\n",
      "Method:                 Least Squares   F-statistic:                              25.69\n",
      "Date:                Tue, 26 Apr 2022   Prob (F-statistic):                    2.28e-22\n",
      "Time:                        18:47:25   Log-Likelihood:                         -309.47\n",
      "No. Observations:                 200   AIC:                                      630.9\n",
      "Df Residuals:                     194   BIC:                                      650.7\n",
      "Df Model:                           6                                                  \n",
      "Covariance Type:            nonrobust                                                  \n",
      "==============================================================================\n",
      "                 coef    std err          t      P>|t|      [0.025      0.975]\n",
      "------------------------------------------------------------------------------\n",
      "H2             0.2088      0.084      2.476      0.014       0.042       0.375\n",
      "CH4            0.3865      0.101      3.837      0.000       0.188       0.585\n",
      "C2H2           0.1749      0.471      0.371      0.711      -0.754       1.104\n",
      "C2H4           0.8496      0.471      1.802      0.073      -0.080       1.779\n",
      "C2H6          -0.1132      0.092     -1.224      0.222      -0.296       0.069\n",
      "CO             0.0634      0.093      0.685      0.494      -0.119       0.246\n",
      "==============================================================================\n",
      "Omnibus:                       18.953   Durbin-Watson:                   0.118\n",
      "Prob(Omnibus):                  0.000   Jarque-Bera (JB):               40.154\n",
      "Skew:                          -0.429   Prob(JB):                     1.91e-09\n",
      "Kurtosis:                       5.020   Cond. No.                         12.1\n",
      "==============================================================================\n",
      "\n",
      "Warnings:\n",
      "[1] Standard Errors assume that the covariance matrix of the errors is correctly specified.\n"
     ]
    }
   ],
   "source": [
    "import statsmodels.api as sm\n",
    "def get_stats():\n",
    "    results = sm.OLS(y,x).fit()\n",
    "    print(results.summary())\n",
    "get_stats()"
   ]
  },
  {
   "cell_type": "code",
   "execution_count": 30,
   "metadata": {},
   "outputs": [
    {
     "name": "stdout",
     "output_type": "stream",
     "text": [
      "                                 OLS Regression Results                                \n",
      "=======================================================================================\n",
      "Dep. Variable:                      y   R-squared (uncentered):                   0.442\n",
      "Model:                            OLS   Adj. R-squared (uncentered):              0.428\n",
      "Method:                 Least Squares   F-statistic:                              30.93\n",
      "Date:                Tue, 26 Apr 2022   Prob (F-statistic):                    4.14e-23\n",
      "Time:                        18:47:37   Log-Likelihood:                         -309.55\n",
      "No. Observations:                 200   AIC:                                      629.1\n",
      "Df Residuals:                     195   BIC:                                      645.6\n",
      "Df Model:                           5                                                  \n",
      "Covariance Type:            nonrobust                                                  \n",
      "==============================================================================\n",
      "                 coef    std err          t      P>|t|      [0.025      0.975]\n",
      "------------------------------------------------------------------------------\n",
      "H2             0.2088      0.084      2.480      0.014       0.043       0.375\n",
      "CH4            0.3794      0.099      3.845      0.000       0.185       0.574\n",
      "C2H4           1.0211      0.094     10.875      0.000       0.836       1.206\n",
      "C2H6          -0.1138      0.092     -1.233      0.219      -0.296       0.068\n",
      "CO             0.0598      0.092      0.651      0.516      -0.121       0.241\n",
      "==============================================================================\n",
      "Omnibus:                       17.455   Durbin-Watson:                   0.126\n",
      "Prob(Omnibus):                  0.000   Jarque-Bera (JB):               34.962\n",
      "Skew:                          -0.410   Prob(JB):                     2.56e-08\n",
      "Kurtosis:                       4.877   Cond. No.                         2.04\n",
      "==============================================================================\n",
      "\n",
      "Warnings:\n",
      "[1] Standard Errors assume that the covariance matrix of the errors is correctly specified.\n"
     ]
    }
   ],
   "source": [
    "x=x.drop(['C2H2'],axis = 1)\n",
    "get_stats()"
   ]
  },
  {
   "cell_type": "code",
   "execution_count": 31,
   "metadata": {},
   "outputs": [
    {
     "name": "stdout",
     "output_type": "stream",
     "text": [
      "                                 OLS Regression Results                                \n",
      "=======================================================================================\n",
      "Dep. Variable:                      y   R-squared (uncentered):                   0.441\n",
      "Model:                            OLS   Adj. R-squared (uncentered):              0.430\n",
      "Method:                 Least Squares   F-statistic:                              38.68\n",
      "Date:                Tue, 26 Apr 2022   Prob (F-statistic):                    7.64e-24\n",
      "Time:                        18:47:56   Log-Likelihood:                         -309.76\n",
      "No. Observations:                 200   AIC:                                      627.5\n",
      "Df Residuals:                     196   BIC:                                      640.7\n",
      "Df Model:                           4                                                  \n",
      "Covariance Type:            nonrobust                                                  \n",
      "==============================================================================\n",
      "                 coef    std err          t      P>|t|      [0.025      0.975]\n",
      "------------------------------------------------------------------------------\n",
      "H2             0.2112      0.084      2.515      0.013       0.046       0.377\n",
      "CH4            0.4060      0.090      4.528      0.000       0.229       0.583\n",
      "C2H4           1.0374      0.090     11.484      0.000       0.859       1.216\n",
      "C2H6          -0.1189      0.092     -1.296      0.197      -0.300       0.062\n",
      "==============================================================================\n",
      "Omnibus:                       17.996   Durbin-Watson:                   0.127\n",
      "Prob(Omnibus):                  0.000   Jarque-Bera (JB):               35.681\n",
      "Skew:                          -0.429   Prob(JB):                     1.79e-08\n",
      "Kurtosis:                       4.883   Cond. No.                         1.68\n",
      "==============================================================================\n",
      "\n",
      "Warnings:\n",
      "[1] Standard Errors assume that the covariance matrix of the errors is correctly specified.\n"
     ]
    }
   ],
   "source": [
    "x=x.drop(['CO'],axis = 1)\n",
    "get_stats()"
   ]
  },
  {
   "cell_type": "code",
   "execution_count": 32,
   "metadata": {},
   "outputs": [
    {
     "name": "stdout",
     "output_type": "stream",
     "text": [
      "                                 OLS Regression Results                                \n",
      "=======================================================================================\n",
      "Dep. Variable:                      y   R-squared (uncentered):                   0.436\n",
      "Model:                            OLS   Adj. R-squared (uncentered):              0.428\n",
      "Method:                 Least Squares   F-statistic:                              50.83\n",
      "Date:                Tue, 26 Apr 2022   Prob (F-statistic):                    2.23e-24\n",
      "Time:                        18:48:05   Log-Likelihood:                         -310.62\n",
      "No. Observations:                 200   AIC:                                      627.2\n",
      "Df Residuals:                     197   BIC:                                      637.1\n",
      "Df Model:                           3                                                  \n",
      "Covariance Type:            nonrobust                                                  \n",
      "==============================================================================\n",
      "                 coef    std err          t      P>|t|      [0.025      0.975]\n",
      "------------------------------------------------------------------------------\n",
      "H2             0.2144      0.084      2.551      0.012       0.049       0.380\n",
      "CH4            0.3671      0.085      4.337      0.000       0.200       0.534\n",
      "C2H4           0.9917      0.083     11.904      0.000       0.827       1.156\n",
      "==============================================================================\n",
      "Omnibus:                       13.865   Durbin-Watson:                   0.127\n",
      "Prob(Omnibus):                  0.001   Jarque-Bera (JB):               23.388\n",
      "Skew:                          -0.373   Prob(JB):                     8.34e-06\n",
      "Kurtosis:                       4.500   Cond. No.                         1.32\n",
      "==============================================================================\n",
      "\n",
      "Warnings:\n",
      "[1] Standard Errors assume that the covariance matrix of the errors is correctly specified.\n"
     ]
    }
   ],
   "source": [
    "x=x.drop(['C2H6'],axis = 1)\n",
    "get_stats()"
   ]
  },
  {
   "cell_type": "code",
   "execution_count": 33,
   "metadata": {},
   "outputs": [],
   "source": [
    "X_train, X_test, y_train, y_test = model_selection.train_test_split(x, y, train_size=0.75, test_size=0.25, random_state=101)\n",
    "#X_val, X_test, y_val, y_test = model_selection.train_test_split(x, y, train_size=0.55, test_size=0.45, random_state=101)"
   ]
  },
  {
   "cell_type": "code",
   "execution_count": 34,
   "metadata": {},
   "outputs": [],
   "source": [
    "#Partical swarm optimization \n",
    "def pso(X_train, y_train,n_particles,iterations,inertia):\n",
    "    #Range of SVC Hyperparameter (Particles search space)\n",
    "    #C, epsilon and gamma\n",
    "    max_c=1.7\n",
    "    min_c=1e-3\n",
    "    max_g=1\n",
    "    min_g=1e-3\n",
    "    \n",
    "    #Initialize particles positions randomly inside the search space\n",
    "    x=np.random.rand(n_particles,1)*(max_c-min_c)+min_c\n",
    "    y=np.random.rand(n_particles,1)*(max_g-min_g)+min_g\n",
    "    \n",
    "    c=np.concatenate((x,y),axis=1)\n",
    "    \n",
    "    #Initialize particles parameter \n",
    "    v=np.zeros((n_particles,2))\n",
    "    c1=2\n",
    "    c2=2\n",
    "    p_best=np.zeros((n_particles,2))   \n",
    "    g_best=np.zeros((1,2))\n",
    "    p_best_Val=np.zeros((n_particles,1))+sys.maxsize  #for fitness function\n",
    "    g_best_Val=sys.maxsize\n",
    "    \n",
    "    best_iter=np.zeros(iterations)\n",
    "    \n",
    "    #Initialize classification variables \n",
    "    p_best_cls=np.empty((n_particles),dtype=object)\n",
    "    g_best_cls=sys.maxsize\n",
    "    \n",
    "\n",
    "    from sklearn.metrics import mean_squared_error\n",
    "    \n",
    "    for i in range(iterations):\n",
    "        for j in range(n_particles):\n",
    "            rbf = svm.SVC(kernel='rbf',C=c[j][0], gamma=c[j][1])\n",
    "            rbf.fit(X_train, y_train)\n",
    "            rbf_pred = rbf.predict(X_train)\n",
    "            \n",
    "            #Mean square error\n",
    "            mse=mean_squared_error(y_train,rbf_pred)\n",
    "            #print('mse=',mse)\n",
    "            if(mse < p_best_Val[j]):\n",
    "                \n",
    "                p_best_Val[j]=mse\n",
    "                p_best_cls[j]=rbf\n",
    "                \n",
    "                p_best[j]=c[j].copy()\n",
    "                \n",
    "            aux=np.argmin(p_best_Val)    \n",
    "\n",
    "            if(p_best_Val[aux] < g_best_Val):\n",
    "                g_best_Val=p_best_Val[aux] \n",
    "                g_best=p_best[aux].copy()\n",
    "                g_best_cls=p_best_cls[aux]\n",
    "\n",
    "            rand1=np.random.random()\n",
    "            rand2=np.random.random()   \n",
    "\n",
    "            #define inertia\n",
    "            w=inertia\n",
    "        \n",
    "            #velocity\n",
    "            v[j]=w*v[j]+c1*(p_best[j]-c[j])*rand1+c2*(g_best-c[j])*rand2\n",
    "            \n",
    "            #change in particles position \n",
    "            c[j]=c[j]+v[j]\n",
    "            \n",
    "            #Bound the particles\n",
    "            if (c[j][0]>max_c):\n",
    "                c[j][0]=max_c\n",
    "            if (c[j][0]<min_c):\n",
    "                c[j][0]=min_c\n",
    "                \n",
    "            if (c[j][1]>max_g):\n",
    "                c[j][1]=max_g\n",
    "            if (c[j][1]<min_g):\n",
    "                c[j][1]=min_g    \n",
    "\n",
    "                \n",
    "                \n",
    "        best_iter[i]=g_best_Val \n",
    "        print('Iter {}>>g_best_Val={}'.format(i,g_best_Val))\n",
    "            \n",
    "    print('g_best',g_best)\n",
    "    print('g_best_cls',g_best_cls)\n",
    "    \n",
    "    t=range(iterations)\n",
    "    plt.plot(t,best_iter,label='Fitness value')\n",
    "    plt.legend()\n",
    "    plt.show()\n",
    "    return(g_best_cls)"
   ]
  },
  {
   "cell_type": "code",
   "execution_count": 35,
   "metadata": {},
   "outputs": [
    {
     "name": "stdout",
     "output_type": "stream",
     "text": [
      "Iter 0>>g_best_Val=[0.08]\n",
      "Iter 1>>g_best_Val=[0.08]\n",
      "Iter 2>>g_best_Val=[0.08]\n",
      "Iter 3>>g_best_Val=[0.08]\n",
      "Iter 4>>g_best_Val=[0.08]\n",
      "Iter 5>>g_best_Val=[0.08]\n",
      "Iter 6>>g_best_Val=[0.08]\n",
      "Iter 7>>g_best_Val=[0.08]\n",
      "Iter 8>>g_best_Val=[0.08]\n",
      "Iter 9>>g_best_Val=[0.08]\n",
      "g_best [0.8184312  0.47925607]\n",
      "g_best_cls SVC(C=0.8184312036645982, cache_size=200, class_weight=None, coef0=0.0,\n",
      "    decision_function_shape='ovr', degree=3, gamma=0.47925607412506577,\n",
      "    kernel='rbf', max_iter=-1, probability=False, random_state=None,\n",
      "    shrinking=True, tol=0.001, verbose=False)\n"
     ]
    },
    {
     "data": {
      "image/png": "[encoded data removed]",
      "text/plain": [
       "<Figure size 432x288 with 1 Axes>"
      ]
     },
     "metadata": {
      "needs_background": "light"
     },
     "output_type": "display_data"
    }
   ],
   "source": [
    "g_best_cls=pso(X_train, y_train,20,10,1)"
   ]
  },
  {
   "cell_type": "code",
   "execution_count": 36,
   "metadata": {},
   "outputs": [
    {
     "name": "stdout",
     "output_type": "stream",
     "text": [
      "Accuracy (RBF Kernel):  90.00\n",
      "F1 (RBF Kernel):  90.22\n"
     ]
    }
   ],
   "source": [
    "rbf_pred = g_best_cls.predict(X_test)\n",
    "rbf_accuracy = accuracy_score(y_test, rbf_pred)\n",
    "rbf_f1 = f1_score(y_test, rbf_pred, average='weighted')\n",
    "print('Accuracy (RBF Kernel): ', \"%.2f\" % (rbf_accuracy*100))\n",
    "print('F1 (RBF Kernel): ', \"%.2f\" % (rbf_f1*100))"
   ]
  },
  {
   "cell_type": "code",
   "execution_count": null,
   "metadata": {},
   "outputs": [],
   "source": []
  }
 ],
 "metadata": {
  "kernelspec": {
   "display_name": "Python 3",
   "language": "python",
   "name": "python3"
  },
  "language_info": {
   "codemirror_mode": {
    "name": "ipython",
    "version": 3
   },
   "file_extension": ".py",
   "mimetype": "text/x-python",
   "name": "python",
   "nbconvert_exporter": "python",
   "pygments_lexer": "ipython3",
   "version": "3.7.4"
  }
 },
 "nbformat": 4,
 "nbformat_minor": 2
}
