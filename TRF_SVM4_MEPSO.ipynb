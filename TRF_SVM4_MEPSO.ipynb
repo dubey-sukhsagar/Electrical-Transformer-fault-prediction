{
 "cells": [
  {
   "cell_type": "code",
   "execution_count": 83,
   "metadata": {},
   "outputs": [],
   "source": [
    "from sklearn import svm, datasets\n",
    "import sklearn.model_selection as model_selection\n",
    "from sklearn.metrics import accuracy_score\n",
    "from sklearn.metrics import f1_score\n",
    "import warnings\n",
    "import numpy as np\n",
    "import matplotlib.pyplot as plt\n",
    "import sys\n",
    "import os\n",
    "import pandas as pd\n",
    "warnings.filterwarnings('ignore')\n",
    "import csv"
   ]
  },
  {
   "cell_type": "code",
   "execution_count": 84,
   "metadata": {},
   "outputs": [
    {
     "name": "stdout",
     "output_type": "stream",
     "text": [
      "       H2  CH4    C2H2    C2H4   C2H6    CO                Fault Type  Label\n",
      "0    4566  671  683643  434322  45482  2001  High intensity discharge      3\n",
      "1    2323  782  545454  342233   4343  4545  High intensity discharge      3\n",
      "2    2118  844  540711  449264   4443  4535  High intensity discharge      3\n",
      "3    2285  706  546779  435718   4303  4235  High intensity discharge      3\n",
      "4    2238  826  537988  335279   4008  4472  High intensity discharge      3\n",
      "..    ...  ...     ...     ...    ...   ...                       ...    ...\n",
      "195    11   12      25      78     31    32                  No fault      0\n",
      "196   140    1      79      97     35    24                  No fault      0\n",
      "197    38   48      29      72     90    31                  No fault      0\n",
      "198     0   44      68      73     22     7                  No fault      0\n",
      "199     3    3      89      37     40  2481                  No fault      0\n",
      "\n",
      "[200 rows x 8 columns]\n"
     ]
    }
   ],
   "source": [
    "#Read DGA FILE \n",
    "path='C:\\\\Users\\\\Dubey\\\\Desktop\\\\IIsc_class_2\\\\E9 205_MLSP\\\\Project'\n",
    "os.chdir(path)\n",
    "df= pd.read_csv(\"dga_data.csv\")\n",
    "print(df)"
   ]
  },
  {
   "cell_type": "code",
   "execution_count": 85,
   "metadata": {},
   "outputs": [
    {
     "name": "stdout",
     "output_type": "stream",
     "text": [
      "<class 'numpy.ndarray'> (200, 6)\n",
      "200\n"
     ]
    }
   ],
   "source": [
    "#Preprocessing of data \n",
    "#data=df.drop(['CO','Fault Type'], axis = 1)\n",
    "x=df.iloc[:,[0, 1, 2, 3, 4,5]]\n",
    "#print(x)\n",
    "x=(x-x.mean())/x.std()\n",
    "#print(x)\n",
    "y=df['Label'].tolist()\n",
    "x= x.to_numpy()\n",
    "print(type(x),x.shape)\n",
    "print(len(y))"
   ]
  },
  {
   "cell_type": "code",
   "execution_count": 105,
   "metadata": {},
   "outputs": [],
   "source": [
    "X_train, X_test, y_train, y_test = model_selection.train_test_split(x, y, train_size=0.77, test_size=0.23, random_state=101)\n",
    "#X_val, X_test, y_val, y_test = model_selection.train_test_split(x, y, train_size=0.55, test_size=0.45, random_state=101)"
   ]
  },
  {
   "cell_type": "code",
   "execution_count": 106,
   "metadata": {},
   "outputs": [],
   "source": [
    "#Modfied evolution partical swarm optimization \n",
    "def pso(X_train, y_train,n_particles,iterations,inertia):\n",
    "    #Range of SVC Hyperparameter (Particles search space)\n",
    "    #C, epsilon and gamma\n",
    "    max_c=1.7\n",
    "    min_c=1e-3\n",
    "    max_g=1\n",
    "    min_g=1e-3\n",
    "    \n",
    "    #Initialize particles positions randomly inside the search space\n",
    "    x=np.random.rand(n_particles,1)*(max_c-min_c)+min_c\n",
    "    y=np.random.rand(n_particles,1)*(max_g-min_g)+min_g\n",
    "    \n",
    "    c=np.concatenate((x,y),axis=1)\n",
    "    \n",
    "    #Initialize particles parameter \n",
    "    v=np.zeros((n_particles,2))\n",
    "    #Initial and fianl social coffient \n",
    "    ci1=1\n",
    "    ci2=1\n",
    "    cf1=2\n",
    "    cf2=2\n",
    "    p_best=np.zeros((n_particles,2))   \n",
    "    g_best=np.zeros((1,2))\n",
    "    p_best_Val=np.zeros((n_particles,1))+sys.maxsize  #for fitness function\n",
    "    g_best_Val=sys.maxsize\n",
    "    \n",
    "    best_iter=np.zeros(iterations)\n",
    "    \n",
    "    #Initialize classification variables \n",
    "    p_best_cls=np.empty((n_particles),dtype=object)\n",
    "    g_best_cls=sys.maxsize\n",
    "    \n",
    "\n",
    "    from sklearn.metrics import mean_squared_error\n",
    "    \n",
    "    #learning parameter \n",
    "    tau1=np.random.random()\n",
    "    tau2=np.random.random()\n",
    "    \n",
    "    for i in range(iterations):\n",
    "        W=[]  #W contains coeff to update velocity of particles \n",
    "        for j in range(n_particles):\n",
    "            rbf = svm.SVC(kernel='rbf',C=c[j][0], gamma=c[j][1])\n",
    "            rbf.fit(X_train, y_train)\n",
    "            rbf_pred = rbf.predict(X_train)\n",
    "            \n",
    "            #Mean square error\n",
    "            mse=mean_squared_error(y_train,rbf_pred)\n",
    "            #print('mse=',mse)\n",
    "            if(mse < p_best_Val[j]):\n",
    "                \n",
    "                p_best_Val[j]=mse\n",
    "                p_best_cls[j]=rbf\n",
    "                \n",
    "                p_best[j]=c[j].copy()\n",
    "                \n",
    "            aux=np.argmin(p_best_Val)    \n",
    "\n",
    "            if(p_best_Val[aux] < g_best_Val):\n",
    "                g_best_Val=p_best_Val[aux] \n",
    "                g_best=p_best[aux].copy()\n",
    "                g_best_cls=p_best_cls[aux]\n",
    "\n",
    "            \n",
    "            N=np.exp(-np.random.random())\n",
    "    \n",
    "            #define inertia\n",
    "            w=inertia\n",
    "            W.append(w+(N*tau2))\n",
    "            \n",
    "            c1=ci1+(i*(cf1-ci1)/iterations)\n",
    "            W.append(c1+(N*tau2))\n",
    "            \n",
    "            c2=ci2+(i*(cf2-ci2)/iterations)\n",
    "            W.append(c2+(N*tau2))\n",
    "            \n",
    "            c3=c1*(1-np.exp(-i*c2))\n",
    "            W.append(c3+(N*tau2))\n",
    "            \n",
    "            g_best_m=np.add(g_best,[tau1*N,tau1*N])\n",
    "         \n",
    "            #velocity\n",
    "            v[j]=W[0]*v[j]+W[1]*(p_best[j]-c[j])+W[2]*(g_best_m-c[j])+W[3]*(c[np.random.randint(0,n_particles)]-c[j])\n",
    "            \n",
    "            #change in particles position \n",
    "            c[j]=c[j]+v[j]\n",
    "            \n",
    "            #Bound the particles\n",
    "            if (c[j][0]>max_c):\n",
    "                c[j][0]=max_c\n",
    "            if (c[j][0]<min_c):\n",
    "                c[j][0]=min_c\n",
    "                \n",
    "            if (c[j][1]>max_g):\n",
    "                c[j][1]=max_g\n",
    "            if (c[j][1]<min_g):\n",
    "                c[j][1]=min_g    \n",
    "\n",
    "                \n",
    "                \n",
    "        best_iter[i]=g_best_Val \n",
    "        print('Iter {}>>g_best_Val={}'.format(i,g_best_Val))\n",
    "            \n",
    "    print('g_best',g_best)\n",
    "    print('g_best_cls',g_best_cls)\n",
    "    \n",
    "    t=range(iterations)\n",
    "    plt.plot(t,best_iter,label='Fitness value')\n",
    "    plt.legend()\n",
    "    plt.show()\n",
    "    return(g_best_cls)"
   ]
  },
  {
   "cell_type": "code",
   "execution_count": 107,
   "metadata": {},
   "outputs": [
    {
     "name": "stdout",
     "output_type": "stream",
     "text": [
      "Iter 0>>g_best_Val=[0.07792208]\n",
      "Iter 1>>g_best_Val=[0.05194805]\n",
      "Iter 2>>g_best_Val=[0.05194805]\n",
      "Iter 3>>g_best_Val=[0.05194805]\n",
      "Iter 4>>g_best_Val=[0.05194805]\n",
      "Iter 5>>g_best_Val=[0.05194805]\n",
      "Iter 6>>g_best_Val=[0.05194805]\n",
      "Iter 7>>g_best_Val=[0.05194805]\n",
      "Iter 8>>g_best_Val=[0.05194805]\n",
      "Iter 9>>g_best_Val=[0.05194805]\n",
      "g_best [1.1647351  0.23764614]\n",
      "g_best_cls SVC(C=1.1647351028621444, cache_size=200, class_weight=None, coef0=0.0,\n",
      "    decision_function_shape='ovr', degree=3, gamma=0.23764613802342321,\n",
      "    kernel='rbf', max_iter=-1, probability=False, random_state=None,\n",
      "    shrinking=True, tol=0.001, verbose=False)\n"
     ]
    },
    {
     "data": {
      "image/png": "[encoded data removed]",
      "text/plain": [
       "<Figure size 432x288 with 1 Axes>"
      ]
     },
     "metadata": {
      "needs_background": "light"
     },
     "output_type": "display_data"
    }
   ],
   "source": [
    "g_best_cls=pso(X_train, y_train,20,10,1)"
   ]
  },
  {
   "cell_type": "code",
   "execution_count": 108,
   "metadata": {},
   "outputs": [
    {
     "name": "stdout",
     "output_type": "stream",
     "text": [
      "Accuracy (RBF Kernel):  97.83\n",
      "F1 (RBF Kernel):  97.89\n"
     ]
    }
   ],
   "source": [
    "rbf_pred = g_best_cls.predict(X_test)\n",
    "rbf_accuracy = accuracy_score(y_test, rbf_pred)\n",
    "rbf_f1 = f1_score(y_test, rbf_pred, average='weighted')\n",
    "print('Accuracy (RBF Kernel): ', \"%.2f\" % (rbf_accuracy*100))\n",
    "print('F1 (RBF Kernel): ', \"%.2f\" % (rbf_f1*100))"
   ]
  },
  {
   "cell_type": "code",
   "execution_count": null,
   "metadata": {},
   "outputs": [],
   "source": []
  },
  {
   "cell_type": "code",
   "execution_count": null,
   "metadata": {},
   "outputs": [],
   "source": []
  }
 ],
 "metadata": {
  "kernelspec": {
   "display_name": "Python 3",
   "language": "python",
   "name": "python3"
  },
  "language_info": {
   "codemirror_mode": {
    "name": "ipython",
    "version": 3
   },
   "file_extension": ".py",
   "mimetype": "text/x-python",
   "name": "python",
   "nbconvert_exporter": "python",
   "pygments_lexer": "ipython3",
   "version": "3.7.4"
  }
 },
 "nbformat": 4,
 "nbformat_minor": 2
}
